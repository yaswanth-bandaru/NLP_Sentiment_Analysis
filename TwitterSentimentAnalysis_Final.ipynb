{
  "nbformat": 4,
  "nbformat_minor": 5,
  "metadata": {
    "accelerator": "GPU",
    "colab": {
      "name": "TwitterSentimentAnalysis_.ipynb",
      "provenance": [],
      "collapsed_sections": [],
      "machine_shape": "hm"
    },
    "kernelspec": {
      "display_name": "Python 3",
      "language": "python",
      "name": "python3"
    },
    "language_info": {
      "codemirror_mode": {
        "name": "ipython",
        "version": 3
      },
      "file_extension": ".py",
      "mimetype": "text/x-python",
      "name": "python",
      "nbconvert_exporter": "python",
      "pygments_lexer": "ipython3",
      "version": "3.7.10"
    }
  },
  "cells": [
    {
      "cell_type": "markdown",
      "metadata": {
        "id": "6ca731c2-50fc-48bd-aa6f-de40193f48f8"
      },
      "source": [
        "# Sentiment Analysis with Twitter data\n",
        "\n",
        "In this notebook we develop a Sentiment Analyzer using Twitter data. We intent to classify the sentiment of the Tweet writer as Negative or Positive.\n",
        "\n",
        "We will use the data from the article: [https://cs.stanford.edu/people/alecmgo/papers/TwitterDistantSupervision09.pdf], which we downloaded from the Kaggle repository: [https://www.kaggle.com/kazanova/sentiment140].  And base or analysis following the general lines drawn in the github repository [https://github.com/ayushoriginal/Sentiment-Analysis-Twitter]. As additional examples on Twitter Sentiment analysis we will use the following notebooks/blogs: [https://www.kaggle.com/mohamednabill7/sentiment-analysis-of-twitter-data], [https://www.kaggle.com/stoicstatic/twitter-sentiment-analysis-for-beginners], [https://www.analyticsvidhya.com/blog/2021/06/rule-based-sentiment-analysis-in-python/], [https://www.digitalocean.com/community/tutorials/how-to-perform-sentiment-analysis-in-python-3-using-the-natural-language-toolkit-nltk].\n",
        "\n",
        "Our analysis will be divided in two phases:\n",
        "\n",
        "1. Collection and preprocessing of data.\n",
        "\n",
        "2. Train the data on different classification models, perform hyper parameter tunning and cross validation. "
      ],
      "id": "6ca731c2-50fc-48bd-aa6f-de40193f48f8"
    },
    {
      "cell_type": "markdown",
      "metadata": {
        "id": "3e828b94-d2cb-4f4e-a4a1-e571d272a3eb"
      },
      "source": [
        "___\n",
        "## Collection and preprocessing of data\n",
        "\n",
        "### Data collection\n",
        "We collect data of the article: [https://cs.stanford.edu/people/alecmgo/papers/TwitterDistantSupervision09.pdf], the Kaggle repository: [https://www.kaggle.com/kazanova/sentiment140].\n",
        "\n",
        "Note that this data set only contains tweets with positive or negative sentiments.\n",
        "![Collecting Data](prtscreen/CollectingData.png \"Collecting Data\")"
      ],
      "id": "3e828b94-d2cb-4f4e-a4a1-e571d272a3eb"
    },
    {
      "cell_type": "markdown",
      "metadata": {
        "id": "a5893066-1c14-4889-b5a8-8d3028408a7e"
      },
      "source": [
        "### Preprocessing Data\n",
        "#### Data exploration\n",
        "In this stage we load some basic python libraries, the collected data and begin to familiarize with the data. "
      ],
      "id": "a5893066-1c14-4889-b5a8-8d3028408a7e"
    },
    {
      "cell_type": "code",
      "metadata": {
        "colab": {
          "base_uri": "https://localhost:8080/",
          "height": 867
        },
        "id": "175771b9-846e-42f1-b167-89e046954d2c",
        "outputId": "2ad25a78-b48f-40d0-d337-24e611cb638a"
      },
      "source": [
        "#Utility libraries\n",
        "import numpy as np  #standard numerical library\n",
        "import pandas as pd #for data manipulation \n",
        "\n",
        "#plotting\n",
        "import matplotlib.pyplot as plt\n",
        "\n",
        "#ignore warnings\n",
        "import warnings\n",
        "warnings.filterwarnings(\"ignore\")\n",
        "\n",
        "#Importing the dataset\n",
        "DATASET_COLUMNS  = [\"sentiment\", \"ids\", \"date\", \"flag\", \"user\", \"text\"]\n",
        "DATASET_ENCODING = \"ISO-8859-1\"\n",
        "dataset = pd.read_csv('/content/training1.csv', encoding=DATASET_ENCODING, names=DATASET_COLUMNS)\n",
        "\n",
        "print(dataset.info())\n",
        "\n",
        "# Removing the unnecessary columns. (Keep sentiment and text)\n",
        "dataset = dataset[['sentiment','text']]\n",
        "# Replacing the values to ease understanding. (positive sentiment is labeled as 4, we change to 1, negative sentiment still 0)\n",
        "dataset['sentiment'] = dataset['sentiment'].replace(4,1)\n",
        "# Drop duplicates\n",
        "dataset = dataset.drop_duplicates()\n",
        "print('\\n data set info after dropping duplicates \\n')\n",
        "print(dataset.info())\n",
        "\n",
        "# Plotting the distribution for dataset.\n",
        "ax = dataset.groupby('sentiment').count().plot(kind='bar', title='Distribution of data',\n",
        "                                               legend=False)\n",
        "ax.set_xticklabels(['Negative','Positive'], rotation=0)"
      ],
      "id": "175771b9-846e-42f1-b167-89e046954d2c",
      "execution_count": 1,
      "outputs": [
        {
          "output_type": "stream",
          "name": "stdout",
          "text": [
            "<class 'pandas.core.frame.DataFrame'>\n",
            "RangeIndex: 1600000 entries, 0 to 1599999\n",
            "Data columns (total 6 columns):\n",
            " #   Column     Non-Null Count    Dtype \n",
            "---  ------     --------------    ----- \n",
            " 0   sentiment  1600000 non-null  int64 \n",
            " 1   ids        1600000 non-null  int64 \n",
            " 2   date       1600000 non-null  object\n",
            " 3   flag       1600000 non-null  object\n",
            " 4   user       1600000 non-null  object\n",
            " 5   text       1600000 non-null  object\n",
            "dtypes: int64(2), object(4)\n",
            "memory usage: 73.2+ MB\n",
            "None\n"
          ]
        },
        {
          "output_type": "stream",
          "name": "stderr",
          "text": [
            "/usr/local/lib/python3.7/dist-packages/ipykernel_launcher.py:18: SettingWithCopyWarning: \n",
            "A value is trying to be set on a copy of a slice from a DataFrame.\n",
            "Try using .loc[row_indexer,col_indexer] = value instead\n",
            "\n",
            "See the caveats in the documentation: https://pandas.pydata.org/pandas-docs/stable/user_guide/indexing.html#returning-a-view-versus-a-copy\n"
          ]
        },
        {
          "output_type": "stream",
          "name": "stdout",
          "text": [
            "\n",
            " data set info after dropping duplicates \n",
            "\n",
            "<class 'pandas.core.frame.DataFrame'>\n",
            "Int64Index: 1583691 entries, 0 to 1599999\n",
            "Data columns (total 2 columns):\n",
            " #   Column     Non-Null Count    Dtype \n",
            "---  ------     --------------    ----- \n",
            " 0   sentiment  1583691 non-null  int64 \n",
            " 1   text       1583691 non-null  object\n",
            "dtypes: int64(1), object(1)\n",
            "memory usage: 36.2+ MB\n",
            "None\n"
          ]
        },
        {
          "output_type": "execute_result",
          "data": {
            "text/plain": [
              "[Text(0, 0, 'Negative'), Text(0, 0, 'Positive')]"
            ]
          },
          "metadata": {},
          "execution_count": 1
        },
        {
          "output_type": "display_data",
          "data": {
            "image/png": "[encoded data removed]",
            "text/plain": [
              "<Figure size 432x288 with 1 Axes>"
            ]
          },
          "metadata": {
            "needs_background": "light"
          }
        }
      ]
    },
    {
      "cell_type": "markdown",
      "metadata": {
        "id": "2bf7497b-b01d-45a9-85c2-3d3e83b69338"
      },
      "source": [
        "___\n",
        "#### Feature reduction\n",
        "\n",
        "It is important to normalize the text by applying a series of pre-processing steps. As we can see in the following figure, we are not interested in some part of the text, as the **USER** or possible **URLs**. Also a variety of **Emoticons** actually map to the same word/idea ( for example \" :) \" \" (: \" \" :-) \" \" (-: \" are all variants of the same word/idea \" smile(y) \").  To detect this elements in a tweet, and more, we will use the python library of regular expressions [https://docs.python.org/3/library/re.html].  \n",
        "![Tweet parts example](prtscreen/tweet_parts.png \"Tweet parts example\")"
      ],
      "id": "2bf7497b-b01d-45a9-85c2-3d3e83b69338"
    },
    {
      "cell_type": "code",
      "metadata": {
        "id": "492ba695-d095-460f-8d1e-6e37c038015b"
      },
      "source": [
        "import re\n",
        "\n",
        "# HASHTAGS \n",
        "find_hashtag = re.compile(r'#(\\w+)') #takes the alphanumeric characters (and symbol \" _ \") after symbol \" # \"\n",
        "def hashtag_replace(re_match):\n",
        "    return '_HASHTAG_' + re_match.groups()[0]\n",
        "\n",
        "# USERS\n",
        "find_user = re.compile(r\"@(\\w+)\")\n",
        "\n",
        "# URLs\n",
        "find_url = re.compile(r\"((http://)[^ ]*|(https://)[^ ]*|( www\\.)[^ ]*|(ftp://)[^ ]*)\")\n",
        "\n",
        "# SEARCH SYMBOLS\n",
        "find_symbols = re.compile(r\"[^\\w\\s]+\") # not alphanumeric nor spaces\n",
        "\n",
        "# REPEATING LETTERS like hurrryyyy mapped to hurryy\n",
        "find_MultipleLetters = re.compile(r\"(.)\\1\\1+\", re.IGNORECASE);\n",
        "def MultipleLetters_replace(re_match):\n",
        "\treturn re_match.groups()[0]*2\n",
        "\n",
        "# EMOJIS\n",
        "find_emojis = {\n",
        "        '_SMILE': re.compile(r'(:-[)}\\]]|:[)}\\]]|[({\\[]:|[({\\[]-:)'),\n",
        "        '_LAUGH': re.compile(r'(:-D|:D|X-D|XD|xD)'),\n",
        "        '_LOVE':  re.compile(r'(<3|:\\*)'),\n",
        "        '_WINK':  re.compile(r'(;-[)}\\]]|;[)}\\]]|;-D|;D|[({\\[];|[({\\[]-;)'),\n",
        "        '_SAD':   re.compile(r'(:-[({\\[]|:[({\\[]|[)}\\]]:|[)}\\]]-:)'),\n",
        "        '_CRY':   re.compile(r'(:,[({\\[]|:\\'[({\\[]|:\"[({\\[]|:[({\\[][({\\[])')\n",
        "    }\n",
        "\n",
        "# PUNCTUATIONS\n",
        "find_punctuations = {\n",
        "        '_EXCL':    re.compile(r'(!|¡)'),\n",
        "        '_QUES':    re.compile(r'(\\?|¿)'),\n",
        "        '_ELLP':    re.compile(r'(\\.\\.\\.|…)'),\n",
        "    }\n",
        "\n",
        "\n",
        "# PROCESS ALL    \n",
        "def ProcessRegex(text):\n",
        "    \n",
        "    text = re.sub( find_hashtag, hashtag_replace, text )\n",
        "    text = re.sub( find_user,    ' _USER ',       text )\n",
        "    text = re.sub( find_url,     ' _URL ',        text )\n",
        "\n",
        "    for emoji in find_emojis.keys():\n",
        "        text = re.sub(find_emojis[emoji],' _EMOJI'+emoji+' ', text)\n",
        "\n",
        "    text = text.replace('\\'','')\n",
        "\n",
        "    for punctuation in find_punctuations.keys():\n",
        "        text = re.sub(find_punctuations[punctuation], ' _PUNCTUATION'+punctuation+' ', text)\n",
        "        \n",
        "    text = re.sub( find_symbols, '', text )\n",
        "    text = re.sub( find_MultipleLetters, MultipleLetters_replace, text )\n",
        "\n",
        "    return text"
      ],
      "id": "492ba695-d095-460f-8d1e-6e37c038015b",
      "execution_count": 2,
      "outputs": []
    },
    {
      "cell_type": "markdown",
      "metadata": {
        "id": "2233d797-28ac-434c-b653-ffcf4451acd2"
      },
      "source": [
        "Lets check the code:"
      ],
      "id": "2233d797-28ac-434c-b653-ffcf4451acd2"
    },
    {
      "cell_type": "code",
      "metadata": {
        "id": "70e889c1-0cfd-476c-882c-11bd9f0d54bb"
      },
      "source": [
        "assert( ProcessRegex('Hello World #coding') == 'Hello World _HASHTAG_coding' )\n",
        "assert( ProcessRegex('Hi @you') == 'Hi  _USER ' )\n",
        "assert( ProcessRegex('this is an URL https://github.com/ayushoriginal/Sentiment-Analysis-Twitter') == 'this is an URL  _URL ' )\n",
        "assert( ProcessRegex('hurrryyyy') == 'hurryy' )\n",
        "assert( ProcessRegex('Hello sad world ]-:') == 'Hello sad world  _EMOJI_SAD ' )\n",
        "assert( ProcessRegex('Hi!') == 'Hi _PUNCTUATION_EXCL ' )\n",
        "assert( ProcessRegex('F*ck ;)') == 'Fck  _EMOJI_WINK ' )"
      ],
      "id": "70e889c1-0cfd-476c-882c-11bd9f0d54bb",
      "execution_count": 3,
      "outputs": []
    },
    {
      "cell_type": "markdown",
      "metadata": {
        "id": "815310b0-63eb-41d4-beff-0c3e5cac4dcf"
      },
      "source": [
        "Lets see if we reduced the number of words (features)"
      ],
      "id": "815310b0-63eb-41d4-beff-0c3e5cac4dcf"
    },
    {
      "cell_type": "code",
      "metadata": {
        "colab": {
          "base_uri": "https://localhost:8080/"
        },
        "id": "40dd3887-9cb6-4b62-9bea-e6c6e5725e27",
        "outputId": "c64103ee-69c8-4fe7-f814-9ecbcf60dba1"
      },
      "source": [
        "words_tweet = ( set(x.split()) for x in dataset['text'] )\n",
        "words = set.union( *words_tweet )\n",
        "nu_words_raw = len(words)\n",
        "print( 'raw number of \"words\" :', nu_words_raw )\n",
        "\n",
        "dataset['text_clean'] = dataset['text'].apply( ProcessRegex )\n",
        "words_tweet = ( set(x.split()) for x in dataset['text_clean'] )\n",
        "words = set.union( *words_tweet )\n",
        "nu_words_clean = len(words)\n",
        "print( 'clean number of \"words\" :', nu_words_clean )\n",
        "\n",
        "print( 'feature reduced in ', nu_words_clean/nu_words_raw*100, '%' )"
      ],
      "id": "40dd3887-9cb6-4b62-9bea-e6c6e5725e27",
      "execution_count": 4,
      "outputs": [
        {
          "output_type": "stream",
          "name": "stdout",
          "text": [
            "raw number of \"words\" : 1350598\n",
            "clean number of \"words\" : 468336\n",
            "feature reduced in  34.676195285347674 %\n"
          ]
        }
      ]
    },
    {
      "cell_type": "markdown",
      "metadata": {
        "id": "4e06186a-c59e-4e8a-a820-b1808e6fca23"
      },
      "source": [
        "___\n",
        "####  Stemming\n",
        "\n",
        "According to [https://cs.stanford.edu/people/alecmgo/papers/TwitterDistantSupervision09.pdf] adding POS tags does not improve the model, even more, according to this review about lemmatizing [https://opendatagroup.github.io/data%20science/2019/03/21/preprocessing-text.html] many times is better to not Lemmatize. In our study we will use a stemming approach, similarly to [https://github.com/ayushoriginal/Sentiment-Analysis-Twitter]. We apply Steaming algorithm from python library nltk [https://www.nltk.org/api/nltk.stem.porter.html]."
      ],
      "id": "4e06186a-c59e-4e8a-a820-b1808e6fca23"
    },
    {
      "cell_type": "code",
      "metadata": {
        "id": "f2ceb46b-4245-473f-8027-74f8fe514f1f"
      },
      "source": [
        "import nltk\n",
        "\n",
        "stemmer = nltk.stem.PorterStemmer()\n",
        "\n",
        "def ProcessStemmer(text):\n",
        "    \n",
        "    words = [word if(word[0:1]=='_') else stemmer.stem(word).lower() for word in text.split() if len(word) >= 2] \n",
        "    text_b = ' '.join(words)\n",
        "    \n",
        "    if text_b:\n",
        "        return text_b\n",
        "    else:\n",
        "        return text"
      ],
      "id": "f2ceb46b-4245-473f-8027-74f8fe514f1f",
      "execution_count": 5,
      "outputs": []
    },
    {
      "cell_type": "code",
      "metadata": {
        "id": "b7ceae86-3cc5-4acd-b407-17c9264a85bc"
      },
      "source": [
        "assert( ProcessStemmer(\"He glanced up from his computer when she came into his office\") ==\n",
        "       'he glanc up from hi comput when she came into hi offic' )"
      ],
      "id": "b7ceae86-3cc5-4acd-b407-17c9264a85bc",
      "execution_count": 6,
      "outputs": []
    },
    {
      "cell_type": "markdown",
      "metadata": {
        "id": "f2a1a62e-3bf4-4e3a-b792-a0488bb4a733"
      },
      "source": [
        "we see if our number of words is further reduced "
      ],
      "id": "f2a1a62e-3bf4-4e3a-b792-a0488bb4a733"
    },
    {
      "cell_type": "code",
      "metadata": {
        "id": "df486801-2a09-4f36-815b-f18c3ac91c03",
        "colab": {
          "base_uri": "https://localhost:8080/"
        },
        "outputId": "aa23ea1e-d770-43d1-c16b-b61cc3ba41bf"
      },
      "source": [
        "dataset['text_stemm'] = dataset['text_clean'].apply( ProcessStemmer )\n",
        "words_tweet = ( set(x.split()) for x in dataset['text_stemm'] )\n",
        "words = set.union( *words_tweet )\n",
        "nu_words_stemm = len(words)\n",
        "print( 'stemm number of \"words\" :', nu_words_stemm )\n",
        "\n",
        "print( 'stemm reduced to ', nu_words_stemm/nu_words_clean*100, '%' )"
      ],
      "id": "df486801-2a09-4f36-815b-f18c3ac91c03",
      "execution_count": 7,
      "outputs": [
        {
          "output_type": "stream",
          "name": "stdout",
          "text": [
            "stemm number of \"words\" : 319078\n",
            "stemm reduced to  68.13014587817293 %\n"
          ]
        }
      ]
    },
    {
      "cell_type": "markdown",
      "metadata": {
        "id": "bff201fd-6b8c-4438-8659-beff87ec796d"
      },
      "source": [
        "___\n",
        "#### Ngrams\n",
        "We have interest in the frequency of words, bigrams and trigrams.  "
      ],
      "id": "bff201fd-6b8c-4438-8659-beff87ec796d"
    },
    {
      "cell_type": "code",
      "metadata": {
        "id": "1907e1c8-0f78-434d-98cc-83280396d7d4"
      },
      "source": [
        "def NgramFreq(list_texts):\n",
        "    \n",
        "    unigrams_fd = nltk.FreqDist()\n",
        "    bigrams_fd = nltk.FreqDist()\n",
        "    trigrams_fd = nltk.FreqDist()\n",
        "    \n",
        "    for text in list_texts:\n",
        "        \n",
        "        words = text.split()\n",
        "        \n",
        "        words_uni = words\n",
        "        unigrams_fd.update( words )\n",
        "        \n",
        "        words_bi = [ ','.join(map(str,bg)) for bg in nltk.bigrams(words) ]\n",
        "        bigrams_fd.update( words_bi )\n",
        "        \n",
        "        try:\n",
        "          words_tri = [ ','.join(map(str,bg)) for bg in nltk.trigrams(words) ]\n",
        "        except:\n",
        "          pass\n",
        "        trigrams_fd.update( words_tri )\n",
        "    \n",
        "    return unigrams_fd, bigrams_fd, trigrams_fd"
      ],
      "id": "1907e1c8-0f78-434d-98cc-83280396d7d4",
      "execution_count": 8,
      "outputs": []
    },
    {
      "cell_type": "markdown",
      "metadata": {
        "id": "be479a2d-fab7-46dd-b1a5-cc03fd4d425b"
      },
      "source": [
        "with this we can get the cumulative distribution of the NGrams."
      ],
      "id": "be479a2d-fab7-46dd-b1a5-cc03fd4d425b"
    },
    {
      "cell_type": "code",
      "metadata": {
        "colab": {
          "base_uri": "https://localhost:8080/",
          "height": 1000
        },
        "id": "b4c5dc8a-7632-424d-ae57-c2e622f5465c",
        "outputId": "726bf538-0913-4d25-a12c-a5ef6b1d67e0"
      },
      "source": [
        "uni_g,bi_g,tri_g = NgramFreq(dataset['text_stemm'])\n",
        "uni_g.plot( 50, cumulative=True )\n",
        "bi_g.plot( 50, cumulative=True )\n",
        "tri_g.plot( 50, cumulative=True )"
      ],
      "id": "b4c5dc8a-7632-424d-ae57-c2e622f5465c",
      "execution_count": 9,
      "outputs": [
        {
          "output_type": "display_data",
          "data": {
            "image/png": "[encoded data removed]",
            "text/plain": [
              "<Figure size 432x288 with 1 Axes>"
            ]
          },
          "metadata": {
            "needs_background": "light"
          }
        },
        {
          "output_type": "display_data",
          "data": {
            "image/png": "[encoded data removed]",
            "text/plain": [
              "<Figure size 432x288 with 1 Axes>"
            ]
          },
          "metadata": {
            "needs_background": "light"
          }
        },
        {
          "output_type": "display_data",
          "data": {
            "image/png": "[encoded data removed]",
            "text/plain": [
              "<Figure size 432x288 with 1 Axes>"
            ]
          },
          "metadata": {
            "needs_background": "light"
          }
        }
      ]
    },
    {
      "cell_type": "code",
      "metadata": {
        "id": "d7b28c6c-de34-445c-b235-e4a1d944af3e"
      },
      "source": [
        "def NGramsFeatures(text):\n",
        "    \n",
        "    words = text.split()\n",
        "    dummies = {}    \n",
        "    \n",
        "    for item in words:\n",
        "        dummies[f'_UNIGRAM_{item}'] = 1\n",
        "   \n",
        "    for item in nltk.bigrams(words):\n",
        "        dummies[f'_BIGRAM_{item[0]}-{item[1]}'] = 1\n",
        "        \n",
        "    for item in nltk.trigrams(words):\n",
        "        dummies[f'_TRIGRAM_{item[0]}-{item[1]}-{item[2]}'] = 1\n",
        "        \n",
        "    return dummies"
      ],
      "id": "d7b28c6c-de34-445c-b235-e4a1d944af3e",
      "execution_count": 10,
      "outputs": []
    },
    {
      "cell_type": "markdown",
      "metadata": {
        "id": "8b8c92a2-6512-4823-bf3d-56feb8568f42"
      },
      "source": [
        "test last function"
      ],
      "id": "8b8c92a2-6512-4823-bf3d-56feb8568f42"
    },
    {
      "cell_type": "code",
      "metadata": {
        "id": "dab1bae9-2245-48ee-8113-2652a5cbecd1",
        "colab": {
          "base_uri": "https://localhost:8080/"
        },
        "outputId": "9518fe50-fb9a-494a-86d6-63916ff906d0"
      },
      "source": [
        "lari = NGramsFeatures('1 2 3 1')\n",
        "print('\\n Ngrams \\n');_=[ print(ii, lari[ii]) for ii in lari.keys() ]"
      ],
      "id": "dab1bae9-2245-48ee-8113-2652a5cbecd1",
      "execution_count": 11,
      "outputs": [
        {
          "output_type": "stream",
          "name": "stdout",
          "text": [
            "\n",
            " Ngrams \n",
            "\n",
            "_UNIGRAM_1 1\n",
            "_UNIGRAM_2 1\n",
            "_UNIGRAM_3 1\n",
            "_BIGRAM_1-2 1\n",
            "_BIGRAM_2-3 1\n",
            "_BIGRAM_3-1 1\n",
            "_TRIGRAM_1-2-3 1\n",
            "_TRIGRAM_2-3-1 1\n"
          ]
        }
      ]
    },
    {
      "cell_type": "markdown",
      "metadata": {
        "id": "624eb9c9-6308-4691-8160-a5302ecf13fd"
      },
      "source": [
        "___\n",
        "#### Negation\n",
        "\n",
        "The need negation detection in sentiment analysis can be illustrated by the difference in the meaning of the phrases, \"This is good\" vs. \"This is not good\" However, the negations occurring in natural language are seldom so simple. Handling the negation consists of two tasks: i) Detection of explicit negation cues and ii) the scope of negation of these words."
      ],
      "id": "624eb9c9-6308-4691-8160-a5302ecf13fd"
    },
    {
      "cell_type": "code",
      "metadata": {
        "id": "fb3aab4a-f127-4572-ab43-0984c5516f68"
      },
      "source": [
        "#DETECTION OF EXPLICIT NEGATION\n",
        "# Regular expression for negation by Christopher Potts\n",
        "negations = r\"\"\"\n",
        "    (?:\n",
        "        ^(?:never|no|nothing|nowhere|noone|none|not|\n",
        "            havent|hasnt|hadnt|cant|couldnt|shouldnt|\n",
        "            wont|wouldnt|dont|doesnt|didnt|isnt|arent|aint\n",
        "        )$\n",
        "    )\n",
        "    |\n",
        "    n't\"\"\"\n",
        "\n",
        "find_negation = re.compile(negations, re.VERBOSE)\n",
        "\n",
        "#SCOPE OF NEGATION\n",
        "'''\n",
        "    Words immediately preceding and following the negation cues are the most negative\n",
        "    and the words that come farther away do not lie in the scope of negation of such cues.\n",
        "    We define left and right negativity of a word as the chances that meaning of that word is actually the opposite.\n",
        "    Left negativity depends on the closest negation cue on the left and similarly for Right negativity.\n",
        "'''\n",
        "def NegationFeatures(text):\n",
        "    \n",
        "    words = text.split()   \n",
        "    words_r = [word for word in words]\n",
        "    words_r.reverse()\n",
        "    \n",
        "    left = np.zeros(len(words))\n",
        "    right = np.copy(left)\n",
        "    prev = 0.0\n",
        "    prev_r = 0.0\n",
        "    for i, (word, word_r) in enumerate(zip(words,words_r)):\n",
        "        if( bool(find_negation.search(word)) ):\n",
        "            prev = 1.0\n",
        "        if( bool(find_negation.search(word_r)) ):\n",
        "            prev_r = 1.0\n",
        "        left[i] = prev\n",
        "        right[i] = prev_r\n",
        "        prev = max(0.0,prev-0.1)#prev*0.9\n",
        "        prev_r = max(0.0,prev_r-0.1)\n",
        "    \n",
        "    scope = zip(\n",
        "        ['_NEG_L_'+w for w in  words] + ['_NEG_R_'+w for w in  words_r],\n",
        "        np.hstack((left,right)) ) \n",
        "    \n",
        "    scope_dict = {}\n",
        "    \n",
        "    N=10\n",
        "    for (key,val) in scope:\n",
        "        if val != 0.0:\n",
        "            if scope_dict.get(key):\n",
        "                for ii in range(N):\n",
        "                    key_ii=key+f'_{ii}'\n",
        "                    if scope_dict.get(key_ii):\n",
        "                        continue\n",
        "                    else:    \n",
        "                        scope_dict[key_ii]=val\n",
        "                        break\n",
        "                    scope_dict[key+f'_FAIL']=val    \n",
        "            else:\n",
        "                scope_dict[key]=val\n",
        "           \n",
        "    return scope_dict        "
      ],
      "id": "fb3aab4a-f127-4572-ab43-0984c5516f68",
      "execution_count": 12,
      "outputs": []
    },
    {
      "cell_type": "markdown",
      "metadata": {
        "id": "5a803f75-fef3-4d94-842e-ee42f3d61146"
      },
      "source": [
        "see this function"
      ],
      "id": "5a803f75-fef3-4d94-842e-ee42f3d61146"
    },
    {
      "cell_type": "code",
      "metadata": {
        "colab": {
          "base_uri": "https://localhost:8080/"
        },
        "id": "8eb058ce-3431-476d-9099-4a365bf4a951",
        "outputId": "aae5c0e4-09d8-40ec-a217-f0249b1d9b3d"
      },
      "source": [
        "lari = NegationFeatures('1 1 2 1 not 1 2 1 1')\n",
        "_ = [ print(ii, lari[ii]) for ii in lari.keys() ]"
      ],
      "id": "8eb058ce-3431-476d-9099-4a365bf4a951",
      "execution_count": 13,
      "outputs": [
        {
          "output_type": "stream",
          "name": "stdout",
          "text": [
            "_NEG_L_not 1.0\n",
            "_NEG_L_1 0.9\n",
            "_NEG_L_2 0.8\n",
            "_NEG_L_1_0 0.7000000000000001\n",
            "_NEG_L_1_1 0.6000000000000001\n",
            "_NEG_R_not 1.0\n",
            "_NEG_R_1 0.9\n",
            "_NEG_R_2 0.8\n",
            "_NEG_R_1_0 0.7000000000000001\n",
            "_NEG_R_1_1 0.6000000000000001\n"
          ]
        }
      ]
    },
    {
      "cell_type": "markdown",
      "metadata": {
        "id": "70c51a60-d03f-460e-a6ed-3023df92753e"
      },
      "source": [
        "Finally we write a function that captures *Ngram* and *Negation*"
      ],
      "id": "70c51a60-d03f-460e-a6ed-3023df92753e"
    },
    {
      "cell_type": "code",
      "metadata": {
        "id": "892aa6ce-a75f-4977-8881-f1ceea1e746e"
      },
      "source": [
        "def ExtractFeatures(text):\n",
        "    features = {}\n",
        "    \n",
        "    ngrams_features = NGramsFeatures(text)\n",
        "    features.update( ngrams_features )\n",
        "    \n",
        "    negation_features = NegationFeatures(text)\n",
        "    features.update( negation_features )\n",
        "    \n",
        "    return features"
      ],
      "id": "892aa6ce-a75f-4977-8881-f1ceea1e746e",
      "execution_count": 14,
      "outputs": []
    },
    {
      "cell_type": "markdown",
      "metadata": {
        "id": "7d4b90b2-ae52-4703-881d-fb79d1b9d8f9"
      },
      "source": [
        "and see this function"
      ],
      "id": "7d4b90b2-ae52-4703-881d-fb79d1b9d8f9"
    },
    {
      "cell_type": "code",
      "metadata": {
        "colab": {
          "base_uri": "https://localhost:8080/"
        },
        "id": "a801e426-0657-4288-8bf8-4d5f2d151abe",
        "outputId": "b52807af-7d58-437d-bd29-6368d5661a2d"
      },
      "source": [
        "lari=ExtractFeatures('This is good')\n",
        "print('\\n Ngrams \\n');_=[ print(ii, lari[ii]) for ii in lari.keys() if re.match('_(U|B|T)',ii) ]\n",
        "print('\\n Left negativity \\n');_=[ print(ii, lari[ii]) for ii in lari.keys() if re.match('_NEG_L',ii) ]\n",
        "print('\\n Right negativity \\n');_=[ print(ii, lari[ii]) for ii in lari.keys() if re.match('_NEG_R',ii) ]\n",
        "\n",
        "\n",
        "lari=ExtractFeatures('This is not good')\n",
        "print('\\n Ngrams \\n');_=[ print(ii, lari[ii]) for ii in lari.keys() if re.match('_(U|B|T)',ii) ]\n",
        "print('\\n Left negativity \\n');_=[ print(ii, lari[ii]) for ii in lari.keys() if re.match('_NEG_L',ii) ]\n",
        "print('\\n Right negativity \\n');_=[ print(ii, lari[ii]) for ii in lari.keys() if re.match('_NEG_R',ii) ]"
      ],
      "id": "a801e426-0657-4288-8bf8-4d5f2d151abe",
      "execution_count": 15,
      "outputs": [
        {
          "output_type": "stream",
          "name": "stdout",
          "text": [
            "\n",
            " Ngrams \n",
            "\n",
            "_UNIGRAM_This 1\n",
            "_UNIGRAM_is 1\n",
            "_UNIGRAM_good 1\n",
            "_BIGRAM_This-is 1\n",
            "_BIGRAM_is-good 1\n",
            "_TRIGRAM_This-is-good 1\n",
            "\n",
            " Left negativity \n",
            "\n",
            "\n",
            " Right negativity \n",
            "\n",
            "\n",
            " Ngrams \n",
            "\n",
            "_UNIGRAM_This 1\n",
            "_UNIGRAM_is 1\n",
            "_UNIGRAM_not 1\n",
            "_UNIGRAM_good 1\n",
            "_BIGRAM_This-is 1\n",
            "_BIGRAM_is-not 1\n",
            "_BIGRAM_not-good 1\n",
            "_TRIGRAM_This-is-not 1\n",
            "_TRIGRAM_is-not-good 1\n",
            "\n",
            " Left negativity \n",
            "\n",
            "_NEG_L_not 1.0\n",
            "_NEG_L_good 0.9\n",
            "\n",
            " Right negativity \n",
            "\n",
            "_NEG_R_not 1.0\n",
            "_NEG_R_is 0.9\n",
            "_NEG_R_This 0.8\n"
          ]
        }
      ]
    },
    {
      "cell_type": "markdown",
      "metadata": {
        "id": "4de9ce17-406b-4b00-a317-bc6e663c4d6d"
      },
      "source": [
        "___\n",
        "## Next step\n",
        "\n",
        "1. Divide data in training and validation set\n",
        "2. (Optional) In training data we can drop unigrams, bigrams, trigrams, that are rare or common\n",
        "3. Train a model with training data\n",
        "4. Predict for validation set and see confusion matrix and metrics\n",
        "5. (Optional) Compare models when we drop ngrams in training set and when we do not drop them\n"
      ],
      "id": "4de9ce17-406b-4b00-a317-bc6e663c4d6d"
    },
    {
      "cell_type": "markdown",
      "metadata": {
        "id": "f28be749-accf-4e66-82d4-731cdf3b0835"
      },
      "source": [
        "### Dividing data"
      ],
      "id": "f28be749-accf-4e66-82d4-731cdf3b0835"
    },
    {
      "cell_type": "code",
      "metadata": {
        "id": "9058d1bd-b32c-4655-9eeb-9a6fa94cbe0c"
      },
      "source": [
        "from sklearn.model_selection import train_test_split\n",
        "\n",
        "def Test_Train_Split(dataset,random_state=2,test_size=0.2):\n",
        "    d_train, d_test = train_test_split(dataset, test_size=test_size, random_state=random_state)\n",
        "    return [(x,y) for x,y in d_train[['text_stemm','sentiment']].values],[(x,y) for x,y in d_test[['text_stemm','sentiment']].values]"
      ],
      "id": "9058d1bd-b32c-4655-9eeb-9a6fa94cbe0c",
      "execution_count": 16,
      "outputs": []
    },
    {
      "cell_type": "markdown",
      "metadata": {
        "id": "b4932c3c-a388-4125-ad60-f18b9326b83e"
      },
      "source": [
        "### Dropping some values of d_train "
      ],
      "id": "b4932c3c-a388-4125-ad60-f18b9326b83e"
    },
    {
      "cell_type": "code",
      "metadata": {
        "id": "9f1865e8-df8e-442e-90e0-3cd5e10d12e3"
      },
      "source": [
        "from collections import defaultdict\n",
        "\n",
        "def NgramSeries(list_texts):\n",
        "    \n",
        "    unigrams = defaultdict(int)\n",
        "    bigrams = defaultdict(int)\n",
        "    trigrams = defaultdict(int)\n",
        "    \n",
        "    for (text,sentiment) in list_texts:\n",
        "        \n",
        "        words = text.split()\n",
        "        \n",
        "        words_uni = words\n",
        "        for item in words_uni:\n",
        "            unigrams[item] += 1\n",
        "                \n",
        "        words_bi = [ '-'.join(map(str,bg)) for bg in nltk.bigrams(words) ]\n",
        "        for item in words_bi:\n",
        "            bigrams[item] += 1\n",
        "\n",
        "        try:        \n",
        "          words_tri = [ '-'.join(map(str,bg)) for bg in nltk.trigrams(words) ]  \n",
        "        except:\n",
        "          pass      \n",
        "        for item in words_tri:\n",
        "            trigrams[item] += 1        \n",
        "    \n",
        "    return pd.Series(unigrams), pd.Series(bigrams), pd.Series(trigrams)"
      ],
      "id": "9f1865e8-df8e-442e-90e0-3cd5e10d12e3",
      "execution_count": 17,
      "outputs": []
    },
    {
      "cell_type": "code",
      "metadata": {
        "colab": {
          "base_uri": "https://localhost:8080/"
        },
        "id": "4e105586-1bc5-45bf-90b8-66a7d1d17b7d",
        "outputId": "daca7443-5b99-4550-ff7f-b44d900e158b"
      },
      "source": [
        "d_train, d_test = Test_Train_Split(dataset)\n",
        "uni_g,bi_g,tri_g = NgramSeries(d_train)\n",
        "\n",
        "#percentage of Ngrams that appers n times in train set\n",
        "print('\\n n       percentage \\n')\n",
        "print(uni_g.value_counts()/uni_g.count())\n",
        "print(bi_g.value_counts()/bi_g.count())\n",
        "print(tri_g.value_counts()/tri_g.count())"
      ],
      "id": "4e105586-1bc5-45bf-90b8-66a7d1d17b7d",
      "execution_count": 18,
      "outputs": [
        {
          "output_type": "stream",
          "name": "stdout",
          "text": [
            "\n",
            " n       percentage \n",
            "\n",
            "1        0.677794\n",
            "2        0.107729\n",
            "3        0.046094\n",
            "4        0.026927\n",
            "5        0.017789\n",
            "           ...   \n",
            "1995     0.000004\n",
            "27257    0.000004\n",
            "19325    0.000004\n",
            "3189     0.000004\n",
            "44904    0.000004\n",
            "Length: 2031, dtype: float64\n",
            "1       7.262808e-01\n",
            "2       1.063668e-01\n",
            "3       4.393372e-02\n",
            "4       2.458870e-02\n",
            "5       1.593449e-02\n",
            "            ...     \n",
            "1223    3.712342e-07\n",
            "1225    3.712342e-07\n",
            "1226    3.712342e-07\n",
            "2558    3.712342e-07\n",
            "780     3.712342e-07\n",
            "Length: 2111, dtype: float64\n",
            "1       8.427866e-01\n",
            "2       7.797767e-02\n",
            "3       2.662033e-02\n",
            "4       1.346087e-02\n",
            "5       8.108394e-03\n",
            "            ...     \n",
            "801     1.322545e-07\n",
            "799     1.322545e-07\n",
            "795     1.322545e-07\n",
            "793     1.322545e-07\n",
            "8171    1.322545e-07\n",
            "Length: 925, dtype: float64\n"
          ]
        }
      ]
    },
    {
      "cell_type": "code",
      "metadata": {
        "id": "d99ff2b4-4232-4d4d-817b-22a76f5f5a55"
      },
      "source": [
        "#Drop rare trigrams and bigrams, keep if there are more than cut\n",
        "cut = 3\n",
        "bi_g = [ bi for bi in bi_g[ bi_g>cut ].sort_values(ascending=False).index ]\n",
        "tri_g = [ tri for tri in tri_g[ tri_g>cut ].sort_values(ascending=False).index ]"
      ],
      "id": "d99ff2b4-4232-4d4d-817b-22a76f5f5a55",
      "execution_count": 19,
      "outputs": []
    },
    {
      "cell_type": "code",
      "metadata": {
        "id": "8520e502-0383-4739-85ac-6c8e7f9e57cc"
      },
      "source": [
        "#Auxiliar funtion for dividing data and dropping ngrams:\n",
        "\n",
        "def AuxGet_TrainTest_Divide( dataset, cut=3, random_state=2, test_size=0.2  ):\n",
        "    d_train, d_test = Test_Train_Split( dataset, random_state=random_state, test_size=test_size )\n",
        "    uni_g,bi_g,tri_g = NgramSeries(d_train)\n",
        "\n",
        "    bi_g = [ bi for bi in bi_g[ bi_g>cut ].sort_values(ascending=False).index ]\n",
        "    tri_g = [ tri for tri in tri_g[ tri_g>cut ].sort_values(ascending=False).index ]\n",
        "    \n",
        "    return d_train, d_test, bi_g, tri_g"
      ],
      "id": "8520e502-0383-4739-85ac-6c8e7f9e57cc",
      "execution_count": 20,
      "outputs": []
    },
    {
      "cell_type": "markdown",
      "metadata": {
        "id": "bc686548-ab13-4869-a9d1-fe6735f24a4e"
      },
      "source": [
        "### Training\n",
        "Now we train the following models:\n",
        "1. Naive Bayes\n",
        "2. Decision Tree\n",
        "3. Random Forest\n",
        "4. Logistic Regression"
      ],
      "id": "bc686548-ab13-4869-a9d1-fe6735f24a4e"
    },
    {
      "cell_type": "code",
      "metadata": {
        "id": "06533214-e903-42b2-a7fb-b2fccc81aaca"
      },
      "source": [
        "# Auxiliar function to get selected features and classifier\n",
        "\n",
        "from sklearn.tree import DecisionTreeClassifier\n",
        "from sklearn.linear_model import LogisticRegression\n",
        "from sklearn.ensemble import RandomForestClassifier\n",
        "from nltk.classify.scikitlearn import SklearnClassifier\n",
        "\n",
        "\n",
        "def AuxGet_TrainTest_Classifier( classifier_name, features_names ):\n",
        "    \n",
        "    def _JustUnigrams( text ):\n",
        "        words = text.split()\n",
        "        features = {}    \n",
        "    \n",
        "        for item in words:\n",
        "            features[f'_UNIGRAM_{item}'] = 1\n",
        "        \n",
        "        return features    \n",
        "    \n",
        "    def _UnigramsandNegation( text ):\n",
        "        features = {}\n",
        "    \n",
        "        unigrams_features = _JustUnigrams(text)\n",
        "        features.update( unigrams_features )\n",
        "    \n",
        "        negation_features = NegationFeatures(text)\n",
        "        features.update( negation_features )\n",
        "    \n",
        "        return features\n",
        "    \n",
        "    def _JustBigrams( text ):\n",
        "        words = text.split()\n",
        "        dummies = {}    \n",
        "     \n",
        "        for item in nltk.bigrams(words):\n",
        "            key = f'{item[0]}-{item[1]}'\n",
        "            if key in bi_g: \n",
        "                dummies['_BIGRAM_'+key] = 1\n",
        "        \n",
        "        return dummies\n",
        "                \n",
        "    def _JustTrigrams( text ):\n",
        "        words = text.split()\n",
        "        dummies = {}    \n",
        "        try:\n",
        "          for item in nltk.trigrams(words):\n",
        "              key = f'{item[0]}-{item[1]}-{item[2]}'\n",
        "              if key in tri_g: \n",
        "                  dummies['_TRIGRAM_'+key] = 1\n",
        "        except:\n",
        "          pass\n",
        "         \n",
        "        return dummies\n",
        "                \n",
        "    def _NGramsFeatures( text ):\n",
        "        features = {}\n",
        "    \n",
        "        unigrams_features = _JustUnigrams(text)\n",
        "        features.update( unigrams_features )\n",
        "    \n",
        "        bigrams_features = _JustBigrams(text)\n",
        "        features.update( bigrams_features )\n",
        "            \n",
        "        trigrams_features = _JustTrigrams(text)\n",
        "        features.update( trigrams_features )\n",
        "    \n",
        "        return features\n",
        "    \n",
        "    def _ExtractFeatures( text ):\n",
        "        features = {}\n",
        "    \n",
        "        unigrams_features = _JustUnigrams(text)\n",
        "        features.update( unigrams_features )\n",
        "    \n",
        "        bigrams_features = _JustBigrams(text)\n",
        "        features.update( bigrams_features )\n",
        "            \n",
        "        trigrams_features = _JustTrigrams(text)\n",
        "        features.update( trigrams_features )\n",
        "    \n",
        "        negation_features = NegationFeatures(text)\n",
        "        features.update( negation_features )\n",
        "    \n",
        "        return features\n",
        "    \n",
        "    \n",
        "    \n",
        "    if features_names == 'NGrams':\n",
        "        #features = NGramsFeatures()\n",
        "        f_train = nltk.classify.apply_features(_NGramsFeatures, d_train, labeled=True)\n",
        "        f_test = nltk.classify.apply_features(_NGramsFeatures, d_test, labeled=True)\n",
        "        \n",
        "    elif features_names == 'Negation':\n",
        "        #features = _UnigramsandNegation()\n",
        "        f_train = nltk.classify.apply_features(_UnigramsandNegation, d_train, labeled=True)\n",
        "        f_test = nltk.classify.apply_features(_UnigramsandNegation, d_test, labeled=True)\n",
        "    \n",
        "    elif features_names == 'All':\n",
        "        #features = ExtractFeatures()\n",
        "        f_train = nltk.classify.apply_features(_ExtractFeatures, d_train,labeled=True)\n",
        "        f_test = nltk.classify.apply_features(_ExtractFeatures, d_test,labeled=True)\n",
        "    \n",
        "    else:        \n",
        "        #features = _JustUnigrams()\n",
        "        f_train = nltk.classify.apply_features(_JustUnigrams, d_train,labeled=True)\n",
        "        f_test = nltk.classify.apply_features(_JustUnigrams, d_test,labeled=True)\n",
        "        \n",
        "        \n",
        "        \n",
        "    if classifier_name == 'NaiveBayes':\n",
        "        def ClassifierFunction( f_train ):\n",
        "            return nltk.classify.NaiveBayesClassifier.train( f_train )\n",
        "    \n",
        "    elif classifier_name == 'DecisionTree':\n",
        "        classif = SklearnClassifier( DecisionTreeClassifier(max_depth=100) )\n",
        "        def ClassifierFunction( f_train ):\n",
        "            return classif.train( f_train )\n",
        "        \n",
        "    elif classifier_name == 'LogisticRegression':\n",
        "        classif = SklearnClassifier( LogisticRegression(solver='lbfgs', max_iter=1000) )\n",
        "        def ClassifierFunction( f_train ):\n",
        "            return classif.train( f_train )\n",
        "    \n",
        "    elif classifier_name == 'RandomForest':\n",
        "        classif = SklearnClassifier( RandomForestClassifier(max_depth=100) )\n",
        "        def ClassifierFunction( f_train ):\n",
        "            return classif.train( f_train )\n",
        "  \n",
        "    print( 'Training' )\n",
        "    classificated = ClassifierFunction( f_train )\n",
        "    print( '...' )\n",
        "    \n",
        "    print( 'Testing' )\n",
        "    accuracy_test = nltk.classify.accuracy( classificated, f_test )\n",
        "    print( 'Accuracy:', accuracy_test)\n",
        "    print( 'Confusion Matrix')\n",
        "    test_truth   = [s for (t,s) in f_test]\n",
        "    test_predict = [classificated.classify(t) for (t,s) in f_test]\n",
        "    print ( nltk.ConfusionMatrix( test_truth, test_predict ) )\n",
        "    \n",
        "    return classificated, f_train, f_test"
      ],
      "id": "06533214-e903-42b2-a7fb-b2fccc81aaca",
      "execution_count": 21,
      "outputs": []
    },
    {
      "cell_type": "markdown",
      "metadata": {
        "id": "cb9a3e2d-0c47-4dcd-b418-9c073989e909"
      },
      "source": [
        "### Accuracy results"
      ],
      "id": "cb9a3e2d-0c47-4dcd-b418-9c073989e909"
    },
    {
      "cell_type": "code",
      "metadata": {
        "colab": {
          "base_uri": "https://localhost:8080/"
        },
        "id": "497629e7-57c8-43c6-8e41-11cac5d9fa68",
        "outputId": "3f942d54-8ef1-428e-be26-0f1c112f6d40"
      },
      "source": [
        "#reduce dataset for test of functions\n",
        "dataset = dataset.sample( frac=1 )\n",
        "\n",
        "d_train, d_test, bi_g, tri_g = AuxGet_TrainTest_Divide( dataset )\n",
        "\n",
        "classif_list = ['NaiveBayes','DecisionTree','LogisticRegression','RandomForest']\n",
        "features_list=['Ngrams','Negation','']\n",
        "\n",
        "results={}\n",
        "for c in classif_list:\n",
        "    for f in features_list:\n",
        "        print('\\n#################### \\n#################### \\n')\n",
        "        print('classif',c)\n",
        "        print('features',f)\n",
        "        clted, f_tr, f_te = AuxGet_TrainTest_Classifier( c, f )\n",
        "        results[c+'  '+f]=nltk.classify.accuracy(clted,f_te)\n",
        "\n",
        "for key in results.keys():\n",
        "    print(key, results[key])"
      ],
      "id": "497629e7-57c8-43c6-8e41-11cac5d9fa68",
      "execution_count": 22,
      "outputs": [
        {
          "metadata": {
            "tags": null
          },
          "name": "stdout",
          "output_type": "stream",
          "text": [
            "\n",
            "#################### \n",
            "#################### \n",
            "\n",
            "classif NaiveBayes\n",
            "features Ngrams\n",
            "Training\n",
            "...\n",
            "Testing\n",
            "Accuracy: 0.7685097193588412\n",
            "Confusion Matrix\n",
            "  |      0      1 |\n",
            "--+---------------+\n",
            "0 |<135480> 22579 |\n",
            "1 |  50743<107937>|\n",
            "--+---------------+\n",
            "(row = reference; col = test)\n",
            "\n",
            "\n",
            "#################### \n",
            "#################### \n",
            "\n",
            "classif NaiveBayes\n",
            "features Negation\n",
            "Training\n",
            "...\n",
            "Testing\n",
            "Accuracy: 0.7565692889097964\n",
            "Confusion Matrix\n",
            "  |      0      1 |\n",
            "--+---------------+\n",
            "0 |<140733> 17326 |\n",
            "1 |  59778 <98902>|\n",
            "--+---------------+\n",
            "(row = reference; col = test)\n",
            "\n",
            "\n",
            "#################### \n",
            "#################### \n",
            "\n",
            "classif NaiveBayes\n",
            "features \n",
            "Training\n",
            "...\n",
            "Testing\n",
            "Accuracy: 0.7685097193588412\n",
            "Confusion Matrix\n",
            "  |      0      1 |\n",
            "--+---------------+\n",
            "0 |<135480> 22579 |\n",
            "1 |  50743<107937>|\n",
            "--+---------------+\n",
            "(row = reference; col = test)\n",
            "\n",
            "\n",
            "#################### \n",
            "#################### \n",
            "\n",
            "classif DecisionTree\n",
            "features Ngrams\n",
            "Training\n",
            "...\n",
            "Testing\n",
            "Accuracy: 0.7329504734181771\n",
            "Confusion Matrix\n",
            "  |      0      1 |\n",
            "--+---------------+\n",
            "0 |<110814> 47245 |\n",
            "1 |  37340<121340>|\n",
            "--+---------------+\n",
            "(row = reference; col = test)\n",
            "\n",
            "\n",
            "#################### \n",
            "#################### \n",
            "\n",
            "classif DecisionTree\n",
            "features Negation\n",
            "Training\n",
            "...\n",
            "Testing\n",
            "Accuracy: 0.7346806045355956\n",
            "Confusion Matrix\n",
            "  |      0      1 |\n",
            "--+---------------+\n",
            "0 |<110934> 47125 |\n",
            "1 |  36912<121768>|\n",
            "--+---------------+\n",
            "(row = reference; col = test)\n",
            "\n",
            "\n",
            "#################### \n",
            "#################### \n",
            "\n",
            "classif DecisionTree\n",
            "features \n",
            "Training\n",
            "...\n",
            "Testing\n",
            "Accuracy: 0.7323758678280856\n",
            "Confusion Matrix\n",
            "  |      0      1 |\n",
            "--+---------------+\n",
            "0 |<110662> 47397 |\n",
            "1 |  37370<121310>|\n",
            "--+---------------+\n",
            "(row = reference; col = test)\n",
            "\n",
            "\n",
            "#################### \n",
            "#################### \n",
            "\n",
            "classif LogisticRegression\n",
            "features Ngrams\n",
            "Training\n"
          ]
        },
        {
          "metadata": {
            "tags": null
          },
          "name": "stderr",
          "output_type": "stream",
          "text": [
            "/usr/local/lib/python3.7/dist-packages/sklearn/linear_model/_logistic.py:818: ConvergenceWarning: lbfgs failed to converge (status=1):\n",
            "STOP: TOTAL NO. of ITERATIONS REACHED LIMIT.\n",
            "\n",
            "Increase the number of iterations (max_iter) or scale the data as shown in:\n",
            "    https://scikit-learn.org/stable/modules/preprocessing.html\n",
            "Please also refer to the documentation for alternative solver options:\n",
            "    https://scikit-learn.org/stable/modules/linear_model.html#logistic-regression\n",
            "  extra_warning_msg=_LOGISTIC_SOLVER_CONVERGENCE_MSG,\n"
          ]
        },
        {
          "metadata": {
            "tags": null
          },
          "name": "stdout",
          "output_type": "stream",
          "text": [
            "...\n",
            "Testing\n",
            "Accuracy: 0.7953646377616902\n",
            "Confusion Matrix\n",
            "  |      0      1 |\n",
            "--+---------------+\n",
            "0 |<123615> 34444 |\n",
            "1 |  30372<128308>|\n",
            "--+---------------+\n",
            "(row = reference; col = test)\n",
            "\n",
            "\n",
            "#################### \n",
            "#################### \n",
            "\n",
            "classif LogisticRegression\n",
            "features Negation\n",
            "Training\n"
          ]
        },
        {
          "metadata": {
            "tags": null
          },
          "name": "stderr",
          "output_type": "stream",
          "text": [
            "/usr/local/lib/python3.7/dist-packages/sklearn/linear_model/_logistic.py:818: ConvergenceWarning: lbfgs failed to converge (status=1):\n",
            "STOP: TOTAL NO. of ITERATIONS REACHED LIMIT.\n",
            "\n",
            "Increase the number of iterations (max_iter) or scale the data as shown in:\n",
            "    https://scikit-learn.org/stable/modules/preprocessing.html\n",
            "Please also refer to the documentation for alternative solver options:\n",
            "    https://scikit-learn.org/stable/modules/linear_model.html#logistic-regression\n",
            "  extra_warning_msg=_LOGISTIC_SOLVER_CONVERGENCE_MSG,\n"
          ]
        },
        {
          "metadata": {
            "tags": null
          },
          "name": "stdout",
          "output_type": "stream",
          "text": [
            "...\n",
            "Testing\n",
            "Accuracy: 0.8067936060920822\n",
            "Confusion Matrix\n",
            "  |      0      1 |\n",
            "--+---------------+\n",
            "0 |<125438> 32621 |\n",
            "1 |  28575<130105>|\n",
            "--+---------------+\n",
            "(row = reference; col = test)\n",
            "\n",
            "\n",
            "#################### \n",
            "#################### \n",
            "\n",
            "classif LogisticRegression\n",
            "features \n",
            "Training\n"
          ]
        },
        {
          "metadata": {
            "tags": null
          },
          "name": "stderr",
          "output_type": "stream",
          "text": [
            "/usr/local/lib/python3.7/dist-packages/sklearn/linear_model/_logistic.py:818: ConvergenceWarning: lbfgs failed to converge (status=1):\n",
            "STOP: TOTAL NO. of ITERATIONS REACHED LIMIT.\n",
            "\n",
            "Increase the number of iterations (max_iter) or scale the data as shown in:\n",
            "    https://scikit-learn.org/stable/modules/preprocessing.html\n",
            "Please also refer to the documentation for alternative solver options:\n",
            "    https://scikit-learn.org/stable/modules/linear_model.html#logistic-regression\n",
            "  extra_warning_msg=_LOGISTIC_SOLVER_CONVERGENCE_MSG,\n"
          ]
        },
        {
          "output_type": "stream",
          "name": "stdout",
          "text": [
            "...\n",
            "Testing\n",
            "Accuracy: 0.7953646377616902\n",
            "Confusion Matrix\n",
            "  |      0      1 |\n",
            "--+---------------+\n",
            "0 |<123615> 34444 |\n",
            "1 |  30372<128308>|\n",
            "--+---------------+\n",
            "(row = reference; col = test)\n",
            "\n",
            "\n",
            "#################### \n",
            "#################### \n",
            "\n",
            "classif RandomForest\n",
            "features Ngrams\n",
            "Training\n",
            "...\n",
            "Testing\n",
            "Accuracy: 0.775610202722115\n",
            "Confusion Matrix\n",
            "  |      0      1 |\n",
            "--+---------------+\n",
            "0 |<120617> 37442 |\n",
            "1 |  33631<125049>|\n",
            "--+---------------+\n",
            "(row = reference; col = test)\n",
            "\n",
            "\n",
            "#################### \n",
            "#################### \n",
            "\n",
            "classif RandomForest\n",
            "features Negation\n",
            "Training\n",
            "...\n",
            "Testing\n",
            "Accuracy: 0.7406192480243986\n",
            "Confusion Matrix\n",
            "  |      0      1 |\n",
            "--+---------------+\n",
            "0 |<103693> 54366 |\n",
            "1 |  27790<130890>|\n",
            "--+---------------+\n",
            "(row = reference; col = test)\n",
            "\n",
            "\n",
            "#################### \n",
            "#################### \n",
            "\n",
            "classif RandomForest\n",
            "features \n",
            "Training\n",
            "...\n",
            "Testing\n",
            "Accuracy: 0.7726424595644995\n",
            "Confusion Matrix\n",
            "NaiveBayes  Ngrams 0.7685097193588412\n",
            "NaiveBayes  Negation 0.7565692889097964\n",
            "NaiveBayes   0.7685097193588412\n",
            "DecisionTree  Ngrams 0.7329504734181771\n",
            "DecisionTree  Negation 0.7346806045355956\n",
            "DecisionTree   0.7323758678280856\n",
            "LogisticRegression  Ngrams 0.7953646377616902\n",
            "LogisticRegression  Negation 0.8067936060920822\n",
            "LogisticRegression   0.7953646377616902\n",
            "RandomForest  Ngrams 0.775610202722115\n",
            "RandomForest  Negation 0.7406192480243986\n",
            "RandomForest   0.7726424595644995\n"
          ]
        }
      ]
    },
    {
      "cell_type": "code",
      "metadata": {
        "id": "fc27d75d-faf3-4514-a31d-1d8597d0d603"
      },
      "source": [
        ""
      ],
      "id": "fc27d75d-faf3-4514-a31d-1d8597d0d603",
      "execution_count": 22,
      "outputs": []
    }
  ]
}
